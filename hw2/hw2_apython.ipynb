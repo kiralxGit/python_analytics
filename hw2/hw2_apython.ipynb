{
 "cells": [
  {
   "cell_type": "code",
   "execution_count": 20,
   "id": "74224fd7",
   "metadata": {},
   "outputs": [],
   "source": [
    "import pandas as pd \n",
    "pd.set_option('display.float_format', '{:.2f}'.format) # Переводим экспоненциальную запись числа в обычную"
   ]
  },
  {
   "cell_type": "markdown",
   "id": "0a07b125",
   "metadata": {},
   "source": [
    "## Задание 1\n",
    "- Скачать данные\n",
    "- Считать данные с помощью pandas\n",
    "- Вывести на экран первые 5 строк\n",
    "- Посмотреть на описание признаков и на их содержание"
   ]
  },
  {
   "cell_type": "code",
   "execution_count": 35,
   "id": "ab089dc7",
   "metadata": {},
   "outputs": [
    {
     "data": {
      "text/html": [
       "<div>\n",
       "<style scoped>\n",
       "    .dataframe tbody tr th:only-of-type {\n",
       "        vertical-align: middle;\n",
       "    }\n",
       "\n",
       "    .dataframe tbody tr th {\n",
       "        vertical-align: top;\n",
       "    }\n",
       "\n",
       "    .dataframe thead th {\n",
       "        text-align: right;\n",
       "    }\n",
       "</style>\n",
       "<table border=\"1\" class=\"dataframe\">\n",
       "  <thead>\n",
       "    <tr style=\"text-align: right;\">\n",
       "      <th></th>\n",
       "      <th>id</th>\n",
       "      <th>date</th>\n",
       "      <th>price</th>\n",
       "      <th>bedrooms</th>\n",
       "      <th>bathrooms</th>\n",
       "      <th>sqft_living</th>\n",
       "      <th>sqft_lot</th>\n",
       "      <th>floors</th>\n",
       "      <th>waterfront</th>\n",
       "      <th>view</th>\n",
       "      <th>...</th>\n",
       "      <th>grade</th>\n",
       "      <th>sqft_above</th>\n",
       "      <th>sqft_basement</th>\n",
       "      <th>yr_built</th>\n",
       "      <th>yr_renovated</th>\n",
       "      <th>zipcode</th>\n",
       "      <th>lat</th>\n",
       "      <th>long</th>\n",
       "      <th>sqft_living15</th>\n",
       "      <th>sqft_lot15</th>\n",
       "    </tr>\n",
       "  </thead>\n",
       "  <tbody>\n",
       "    <tr>\n",
       "      <th>0</th>\n",
       "      <td>7129300520</td>\n",
       "      <td>20141013T000000</td>\n",
       "      <td>221900.00</td>\n",
       "      <td>3</td>\n",
       "      <td>1.00</td>\n",
       "      <td>1180</td>\n",
       "      <td>5650</td>\n",
       "      <td>1.00</td>\n",
       "      <td>0</td>\n",
       "      <td>0</td>\n",
       "      <td>...</td>\n",
       "      <td>7</td>\n",
       "      <td>1180</td>\n",
       "      <td>0</td>\n",
       "      <td>1955</td>\n",
       "      <td>0</td>\n",
       "      <td>98178</td>\n",
       "      <td>47.51</td>\n",
       "      <td>-122.26</td>\n",
       "      <td>1340</td>\n",
       "      <td>5650</td>\n",
       "    </tr>\n",
       "    <tr>\n",
       "      <th>1</th>\n",
       "      <td>6414100192</td>\n",
       "      <td>20141209T000000</td>\n",
       "      <td>538000.00</td>\n",
       "      <td>3</td>\n",
       "      <td>2.25</td>\n",
       "      <td>2570</td>\n",
       "      <td>7242</td>\n",
       "      <td>2.00</td>\n",
       "      <td>0</td>\n",
       "      <td>0</td>\n",
       "      <td>...</td>\n",
       "      <td>7</td>\n",
       "      <td>2170</td>\n",
       "      <td>400</td>\n",
       "      <td>1951</td>\n",
       "      <td>1991</td>\n",
       "      <td>98125</td>\n",
       "      <td>47.72</td>\n",
       "      <td>-122.32</td>\n",
       "      <td>1690</td>\n",
       "      <td>7639</td>\n",
       "    </tr>\n",
       "    <tr>\n",
       "      <th>2</th>\n",
       "      <td>5631500400</td>\n",
       "      <td>20150225T000000</td>\n",
       "      <td>180000.00</td>\n",
       "      <td>2</td>\n",
       "      <td>1.00</td>\n",
       "      <td>770</td>\n",
       "      <td>10000</td>\n",
       "      <td>1.00</td>\n",
       "      <td>0</td>\n",
       "      <td>0</td>\n",
       "      <td>...</td>\n",
       "      <td>6</td>\n",
       "      <td>770</td>\n",
       "      <td>0</td>\n",
       "      <td>1933</td>\n",
       "      <td>0</td>\n",
       "      <td>98028</td>\n",
       "      <td>47.74</td>\n",
       "      <td>-122.23</td>\n",
       "      <td>2720</td>\n",
       "      <td>8062</td>\n",
       "    </tr>\n",
       "    <tr>\n",
       "      <th>3</th>\n",
       "      <td>2487200875</td>\n",
       "      <td>20141209T000000</td>\n",
       "      <td>604000.00</td>\n",
       "      <td>4</td>\n",
       "      <td>3.00</td>\n",
       "      <td>1960</td>\n",
       "      <td>5000</td>\n",
       "      <td>1.00</td>\n",
       "      <td>0</td>\n",
       "      <td>0</td>\n",
       "      <td>...</td>\n",
       "      <td>7</td>\n",
       "      <td>1050</td>\n",
       "      <td>910</td>\n",
       "      <td>1965</td>\n",
       "      <td>0</td>\n",
       "      <td>98136</td>\n",
       "      <td>47.52</td>\n",
       "      <td>-122.39</td>\n",
       "      <td>1360</td>\n",
       "      <td>5000</td>\n",
       "    </tr>\n",
       "    <tr>\n",
       "      <th>4</th>\n",
       "      <td>1954400510</td>\n",
       "      <td>20150218T000000</td>\n",
       "      <td>510000.00</td>\n",
       "      <td>3</td>\n",
       "      <td>2.00</td>\n",
       "      <td>1680</td>\n",
       "      <td>8080</td>\n",
       "      <td>1.00</td>\n",
       "      <td>0</td>\n",
       "      <td>0</td>\n",
       "      <td>...</td>\n",
       "      <td>8</td>\n",
       "      <td>1680</td>\n",
       "      <td>0</td>\n",
       "      <td>1987</td>\n",
       "      <td>0</td>\n",
       "      <td>98074</td>\n",
       "      <td>47.62</td>\n",
       "      <td>-122.05</td>\n",
       "      <td>1800</td>\n",
       "      <td>7503</td>\n",
       "    </tr>\n",
       "  </tbody>\n",
       "</table>\n",
       "<p>5 rows × 21 columns</p>\n",
       "</div>"
      ],
      "text/plain": [
       "           id             date     price  bedrooms  bathrooms  sqft_living   \n",
       "0  7129300520  20141013T000000 221900.00         3       1.00         1180  \\\n",
       "1  6414100192  20141209T000000 538000.00         3       2.25         2570   \n",
       "2  5631500400  20150225T000000 180000.00         2       1.00          770   \n",
       "3  2487200875  20141209T000000 604000.00         4       3.00         1960   \n",
       "4  1954400510  20150218T000000 510000.00         3       2.00         1680   \n",
       "\n",
       "   sqft_lot  floors  waterfront  view  ...  grade  sqft_above  sqft_basement   \n",
       "0      5650    1.00           0     0  ...      7        1180              0  \\\n",
       "1      7242    2.00           0     0  ...      7        2170            400   \n",
       "2     10000    1.00           0     0  ...      6         770              0   \n",
       "3      5000    1.00           0     0  ...      7        1050            910   \n",
       "4      8080    1.00           0     0  ...      8        1680              0   \n",
       "\n",
       "   yr_built  yr_renovated  zipcode   lat    long  sqft_living15  sqft_lot15  \n",
       "0      1955             0    98178 47.51 -122.26           1340        5650  \n",
       "1      1951          1991    98125 47.72 -122.32           1690        7639  \n",
       "2      1933             0    98028 47.74 -122.23           2720        8062  \n",
       "3      1965             0    98136 47.52 -122.39           1360        5000  \n",
       "4      1987             0    98074 47.62 -122.05           1800        7503  \n",
       "\n",
       "[5 rows x 21 columns]"
      ]
     },
     "execution_count": 35,
     "metadata": {},
     "output_type": "execute_result"
    }
   ],
   "source": [
    "df = pd.read_csv('./kc-house-data.csv', encoding=\"ISO-8859-1\")\n",
    "df.head(5)"
   ]
  },
  {
   "cell_type": "markdown",
   "id": "68909373",
   "metadata": {},
   "source": [
    "## Задание 2\n",
    "\n",
    "Проведите первичный анализ данных\n",
    "1. Изучите типы данных\n",
    "2. Найдите количество пропущенных ячеек в данных\n",
    "3. Посчитайте основные статистики по всем признакам и\n",
    "поизучайте их\n",
    "4. Пишите выводы"
   ]
  },
  {
   "cell_type": "code",
   "execution_count": 16,
   "id": "6ef97250",
   "metadata": {},
   "outputs": [
    {
     "name": "stdout",
     "output_type": "stream",
     "text": [
      "<class 'pandas.core.frame.DataFrame'>\n",
      "RangeIndex: 21613 entries, 0 to 21612\n",
      "Data columns (total 21 columns):\n",
      " #   Column         Non-Null Count  Dtype  \n",
      "---  ------         --------------  -----  \n",
      " 0   id             21613 non-null  int64  \n",
      " 1   date           21613 non-null  object \n",
      " 2   price          21613 non-null  float64\n",
      " 3   bedrooms       21613 non-null  int64  \n",
      " 4   bathrooms      21613 non-null  float64\n",
      " 5   sqft_living    21613 non-null  int64  \n",
      " 6   sqft_lot       21613 non-null  int64  \n",
      " 7   floors         21613 non-null  float64\n",
      " 8   waterfront     21613 non-null  int64  \n",
      " 9   view           21613 non-null  int64  \n",
      " 10  condition      21613 non-null  int64  \n",
      " 11  grade          21613 non-null  int64  \n",
      " 12  sqft_above     21613 non-null  int64  \n",
      " 13  sqft_basement  21613 non-null  int64  \n",
      " 14  yr_built       21613 non-null  int64  \n",
      " 15  yr_renovated   21613 non-null  int64  \n",
      " 16  zipcode        21613 non-null  int64  \n",
      " 17  lat            21613 non-null  float64\n",
      " 18  long           21613 non-null  float64\n",
      " 19  sqft_living15  21613 non-null  int64  \n",
      " 20  sqft_lot15     21613 non-null  int64  \n",
      "dtypes: float64(5), int64(15), object(1)\n",
      "memory usage: 3.5+ MB\n"
     ]
    }
   ],
   "source": [
    "df.info()"
   ]
  },
  {
   "cell_type": "markdown",
   "id": "1d6e87ca",
   "metadata": {},
   "source": [
    "1. Преимущественно целочисленные значения типа int64 (15 штук), так же float64 (5 штук) и object(1 столбец)\n",
    "1. Нет пропущенных значений\n",
    "1. и 4. Ниже выведены основные статистики, где можем увидеть средняя, мин и макс стоимость, кол-во спален, площадь жилая, общая, подвала. Год постройки, год ремонта. Почтовый адрес, координаты. Этажность, состояние, грэйд. Каждому дому присвоен id."
   ]
  },
  {
   "cell_type": "code",
   "execution_count": 38,
   "id": "5076451a",
   "metadata": {},
   "outputs": [
    {
     "data": {
      "text/html": [
       "<div>\n",
       "<style scoped>\n",
       "    .dataframe tbody tr th:only-of-type {\n",
       "        vertical-align: middle;\n",
       "    }\n",
       "\n",
       "    .dataframe tbody tr th {\n",
       "        vertical-align: top;\n",
       "    }\n",
       "\n",
       "    .dataframe thead th {\n",
       "        text-align: right;\n",
       "    }\n",
       "</style>\n",
       "<table border=\"1\" class=\"dataframe\">\n",
       "  <thead>\n",
       "    <tr style=\"text-align: right;\">\n",
       "      <th></th>\n",
       "      <th>id</th>\n",
       "      <th>price</th>\n",
       "      <th>bedrooms</th>\n",
       "      <th>bathrooms</th>\n",
       "      <th>sqft_living</th>\n",
       "      <th>sqft_lot</th>\n",
       "      <th>floors</th>\n",
       "      <th>waterfront</th>\n",
       "      <th>view</th>\n",
       "      <th>condition</th>\n",
       "      <th>grade</th>\n",
       "      <th>sqft_above</th>\n",
       "      <th>sqft_basement</th>\n",
       "      <th>yr_built</th>\n",
       "      <th>yr_renovated</th>\n",
       "      <th>zipcode</th>\n",
       "      <th>lat</th>\n",
       "      <th>long</th>\n",
       "      <th>sqft_living15</th>\n",
       "      <th>sqft_lot15</th>\n",
       "    </tr>\n",
       "  </thead>\n",
       "  <tbody>\n",
       "    <tr>\n",
       "      <th>count</th>\n",
       "      <td>21613.00</td>\n",
       "      <td>21613.00</td>\n",
       "      <td>21613.00</td>\n",
       "      <td>21613.00</td>\n",
       "      <td>21613.00</td>\n",
       "      <td>21613.00</td>\n",
       "      <td>21613.00</td>\n",
       "      <td>21613.00</td>\n",
       "      <td>21613.00</td>\n",
       "      <td>21613.00</td>\n",
       "      <td>21613.00</td>\n",
       "      <td>21613.00</td>\n",
       "      <td>21613.00</td>\n",
       "      <td>21613.00</td>\n",
       "      <td>21613.00</td>\n",
       "      <td>21613.00</td>\n",
       "      <td>21613.00</td>\n",
       "      <td>21613.00</td>\n",
       "      <td>21613.00</td>\n",
       "      <td>21613.00</td>\n",
       "    </tr>\n",
       "    <tr>\n",
       "      <th>mean</th>\n",
       "      <td>4580301520.86</td>\n",
       "      <td>540088.14</td>\n",
       "      <td>3.37</td>\n",
       "      <td>2.11</td>\n",
       "      <td>2079.90</td>\n",
       "      <td>15106.97</td>\n",
       "      <td>1.49</td>\n",
       "      <td>0.01</td>\n",
       "      <td>0.23</td>\n",
       "      <td>3.41</td>\n",
       "      <td>7.66</td>\n",
       "      <td>1788.39</td>\n",
       "      <td>291.51</td>\n",
       "      <td>1971.01</td>\n",
       "      <td>84.40</td>\n",
       "      <td>98077.94</td>\n",
       "      <td>47.56</td>\n",
       "      <td>-122.21</td>\n",
       "      <td>1986.55</td>\n",
       "      <td>12768.46</td>\n",
       "    </tr>\n",
       "    <tr>\n",
       "      <th>std</th>\n",
       "      <td>2876565571.31</td>\n",
       "      <td>367127.20</td>\n",
       "      <td>0.93</td>\n",
       "      <td>0.77</td>\n",
       "      <td>918.44</td>\n",
       "      <td>41420.51</td>\n",
       "      <td>0.54</td>\n",
       "      <td>0.09</td>\n",
       "      <td>0.77</td>\n",
       "      <td>0.65</td>\n",
       "      <td>1.18</td>\n",
       "      <td>828.09</td>\n",
       "      <td>442.58</td>\n",
       "      <td>29.37</td>\n",
       "      <td>401.68</td>\n",
       "      <td>53.51</td>\n",
       "      <td>0.14</td>\n",
       "      <td>0.14</td>\n",
       "      <td>685.39</td>\n",
       "      <td>27304.18</td>\n",
       "    </tr>\n",
       "    <tr>\n",
       "      <th>min</th>\n",
       "      <td>1000102.00</td>\n",
       "      <td>75000.00</td>\n",
       "      <td>0.00</td>\n",
       "      <td>0.00</td>\n",
       "      <td>290.00</td>\n",
       "      <td>520.00</td>\n",
       "      <td>1.00</td>\n",
       "      <td>0.00</td>\n",
       "      <td>0.00</td>\n",
       "      <td>1.00</td>\n",
       "      <td>1.00</td>\n",
       "      <td>290.00</td>\n",
       "      <td>0.00</td>\n",
       "      <td>1900.00</td>\n",
       "      <td>0.00</td>\n",
       "      <td>98001.00</td>\n",
       "      <td>47.16</td>\n",
       "      <td>-122.52</td>\n",
       "      <td>399.00</td>\n",
       "      <td>651.00</td>\n",
       "    </tr>\n",
       "    <tr>\n",
       "      <th>25%</th>\n",
       "      <td>2123049194.00</td>\n",
       "      <td>321950.00</td>\n",
       "      <td>3.00</td>\n",
       "      <td>1.75</td>\n",
       "      <td>1427.00</td>\n",
       "      <td>5040.00</td>\n",
       "      <td>1.00</td>\n",
       "      <td>0.00</td>\n",
       "      <td>0.00</td>\n",
       "      <td>3.00</td>\n",
       "      <td>7.00</td>\n",
       "      <td>1190.00</td>\n",
       "      <td>0.00</td>\n",
       "      <td>1951.00</td>\n",
       "      <td>0.00</td>\n",
       "      <td>98033.00</td>\n",
       "      <td>47.47</td>\n",
       "      <td>-122.33</td>\n",
       "      <td>1490.00</td>\n",
       "      <td>5100.00</td>\n",
       "    </tr>\n",
       "    <tr>\n",
       "      <th>50%</th>\n",
       "      <td>3904930410.00</td>\n",
       "      <td>450000.00</td>\n",
       "      <td>3.00</td>\n",
       "      <td>2.25</td>\n",
       "      <td>1910.00</td>\n",
       "      <td>7618.00</td>\n",
       "      <td>1.50</td>\n",
       "      <td>0.00</td>\n",
       "      <td>0.00</td>\n",
       "      <td>3.00</td>\n",
       "      <td>7.00</td>\n",
       "      <td>1560.00</td>\n",
       "      <td>0.00</td>\n",
       "      <td>1975.00</td>\n",
       "      <td>0.00</td>\n",
       "      <td>98065.00</td>\n",
       "      <td>47.57</td>\n",
       "      <td>-122.23</td>\n",
       "      <td>1840.00</td>\n",
       "      <td>7620.00</td>\n",
       "    </tr>\n",
       "    <tr>\n",
       "      <th>75%</th>\n",
       "      <td>7308900445.00</td>\n",
       "      <td>645000.00</td>\n",
       "      <td>4.00</td>\n",
       "      <td>2.50</td>\n",
       "      <td>2550.00</td>\n",
       "      <td>10688.00</td>\n",
       "      <td>2.00</td>\n",
       "      <td>0.00</td>\n",
       "      <td>0.00</td>\n",
       "      <td>4.00</td>\n",
       "      <td>8.00</td>\n",
       "      <td>2210.00</td>\n",
       "      <td>560.00</td>\n",
       "      <td>1997.00</td>\n",
       "      <td>0.00</td>\n",
       "      <td>98118.00</td>\n",
       "      <td>47.68</td>\n",
       "      <td>-122.12</td>\n",
       "      <td>2360.00</td>\n",
       "      <td>10083.00</td>\n",
       "    </tr>\n",
       "    <tr>\n",
       "      <th>max</th>\n",
       "      <td>9900000190.00</td>\n",
       "      <td>7700000.00</td>\n",
       "      <td>33.00</td>\n",
       "      <td>8.00</td>\n",
       "      <td>13540.00</td>\n",
       "      <td>1651359.00</td>\n",
       "      <td>3.50</td>\n",
       "      <td>1.00</td>\n",
       "      <td>4.00</td>\n",
       "      <td>5.00</td>\n",
       "      <td>13.00</td>\n",
       "      <td>9410.00</td>\n",
       "      <td>4820.00</td>\n",
       "      <td>2015.00</td>\n",
       "      <td>2015.00</td>\n",
       "      <td>98199.00</td>\n",
       "      <td>47.78</td>\n",
       "      <td>-121.31</td>\n",
       "      <td>6210.00</td>\n",
       "      <td>871200.00</td>\n",
       "    </tr>\n",
       "  </tbody>\n",
       "</table>\n",
       "</div>"
      ],
      "text/plain": [
       "                 id      price  bedrooms  bathrooms  sqft_living   sqft_lot   \n",
       "count      21613.00   21613.00  21613.00   21613.00     21613.00   21613.00  \\\n",
       "mean  4580301520.86  540088.14      3.37       2.11      2079.90   15106.97   \n",
       "std   2876565571.31  367127.20      0.93       0.77       918.44   41420.51   \n",
       "min      1000102.00   75000.00      0.00       0.00       290.00     520.00   \n",
       "25%   2123049194.00  321950.00      3.00       1.75      1427.00    5040.00   \n",
       "50%   3904930410.00  450000.00      3.00       2.25      1910.00    7618.00   \n",
       "75%   7308900445.00  645000.00      4.00       2.50      2550.00   10688.00   \n",
       "max   9900000190.00 7700000.00     33.00       8.00     13540.00 1651359.00   \n",
       "\n",
       "        floors  waterfront     view  condition    grade  sqft_above   \n",
       "count 21613.00    21613.00 21613.00   21613.00 21613.00    21613.00  \\\n",
       "mean      1.49        0.01     0.23       3.41     7.66     1788.39   \n",
       "std       0.54        0.09     0.77       0.65     1.18      828.09   \n",
       "min       1.00        0.00     0.00       1.00     1.00      290.00   \n",
       "25%       1.00        0.00     0.00       3.00     7.00     1190.00   \n",
       "50%       1.50        0.00     0.00       3.00     7.00     1560.00   \n",
       "75%       2.00        0.00     0.00       4.00     8.00     2210.00   \n",
       "max       3.50        1.00     4.00       5.00    13.00     9410.00   \n",
       "\n",
       "       sqft_basement  yr_built  yr_renovated  zipcode      lat     long   \n",
       "count       21613.00  21613.00      21613.00 21613.00 21613.00 21613.00  \\\n",
       "mean          291.51   1971.01         84.40 98077.94    47.56  -122.21   \n",
       "std           442.58     29.37        401.68    53.51     0.14     0.14   \n",
       "min             0.00   1900.00          0.00 98001.00    47.16  -122.52   \n",
       "25%             0.00   1951.00          0.00 98033.00    47.47  -122.33   \n",
       "50%             0.00   1975.00          0.00 98065.00    47.57  -122.23   \n",
       "75%           560.00   1997.00          0.00 98118.00    47.68  -122.12   \n",
       "max          4820.00   2015.00       2015.00 98199.00    47.78  -121.31   \n",
       "\n",
       "       sqft_living15  sqft_lot15  \n",
       "count       21613.00    21613.00  \n",
       "mean         1986.55    12768.46  \n",
       "std           685.39    27304.18  \n",
       "min           399.00      651.00  \n",
       "25%          1490.00     5100.00  \n",
       "50%          1840.00     7620.00  \n",
       "75%          2360.00    10083.00  \n",
       "max          6210.00   871200.00  "
      ]
     },
     "execution_count": 38,
     "metadata": {},
     "output_type": "execute_result"
    }
   ],
   "source": [
    "df.describe()"
   ]
  },
  {
   "cell_type": "markdown",
   "id": "ed7c8701",
   "metadata": {},
   "source": [
    "## Задание 3\n",
    "\n",
    "Ответьте на несколько вопросов\n",
    "### 3.1 В каком диапазоне изменяются стоимости недвижимости?\n"
   ]
  },
  {
   "cell_type": "code",
   "execution_count": 121,
   "id": "b3f8b728",
   "metadata": {},
   "outputs": [
    {
     "name": "stdout",
     "output_type": "stream",
     "text": [
      "Стоимость недвижимости варьируется от 75000.0 до 7700000.0\n"
     ]
    }
   ],
   "source": [
    "print(f'Стоимость недвижимости варьируется от {df.price.min()} до {df.price.max()}')"
   ]
  },
  {
   "cell_type": "markdown",
   "id": "3bb620bc",
   "metadata": {},
   "source": [
    "### 3.2 Какую долю в среднем занимают жилая площадь от всей площади по всем домам?\n"
   ]
  },
  {
   "cell_type": "code",
   "execution_count": 118,
   "id": "381c59db",
   "metadata": {},
   "outputs": [
    {
     "data": {
      "text/plain": [
       "0.14"
      ]
     },
     "execution_count": 118,
     "metadata": {},
     "output_type": "execute_result"
    }
   ],
   "source": [
    "(df.sqft_living.mean()/df.sqft_lot.mean()).round(2)"
   ]
  },
  {
   "cell_type": "markdown",
   "id": "32dcda88",
   "metadata": {},
   "source": [
    "### 3.3 Как много домов с разными этажами в данных?\n"
   ]
  },
  {
   "cell_type": "code",
   "execution_count": 54,
   "id": "8d48abcf",
   "metadata": {},
   "outputs": [
    {
     "data": {
      "text/plain": [
       "6"
      ]
     },
     "execution_count": 54,
     "metadata": {},
     "output_type": "execute_result"
    }
   ],
   "source": [
    "df.floors.unique().shape[0]"
   ]
  },
  {
   "cell_type": "markdown",
   "id": "9e2a3f99",
   "metadata": {},
   "source": [
    "### 3.4 Насколько хорошие состояния у домов в данных?\n"
   ]
  },
  {
   "cell_type": "code",
   "execution_count": 57,
   "id": "c933efc0",
   "metadata": {},
   "outputs": [
    {
     "data": {
      "text/plain": [
       "3.4094295100171195"
      ]
     },
     "execution_count": 57,
     "metadata": {},
     "output_type": "execute_result"
    }
   ],
   "source": [
    "df.condition.mean()"
   ]
  },
  {
   "cell_type": "markdown",
   "id": "da336625",
   "metadata": {},
   "source": [
    "### 3.5 Найдите года, когда построили первый дом, когда построили последний дом в данных?"
   ]
  },
  {
   "cell_type": "code",
   "execution_count": 58,
   "id": "e50865b3",
   "metadata": {},
   "outputs": [
    {
     "data": {
      "text/plain": [
       "(1900, 2015)"
      ]
     },
     "execution_count": 58,
     "metadata": {},
     "output_type": "execute_result"
    }
   ],
   "source": [
    "(df.yr_built.min(),df.yr_built.max())"
   ]
  },
  {
   "cell_type": "markdown",
   "id": "b0fe5dad",
   "metadata": {},
   "source": [
    "## Задание 4\n",
    "\n",
    "Ответьте на несколько вопросов\n",
    "### 4.1 Сколько в среднем стоят дома, у которых 2 спальни?"
   ]
  },
  {
   "cell_type": "code",
   "execution_count": 114,
   "id": "8aa5719c",
   "metadata": {},
   "outputs": [
    {
     "data": {
      "text/plain": [
       "401372.68"
      ]
     },
     "execution_count": 114,
     "metadata": {},
     "output_type": "execute_result"
    }
   ],
   "source": [
    "df[df.bedrooms == 2][['price']].mean()[0].round(2)"
   ]
  },
  {
   "cell_type": "markdown",
   "id": "0ea3b910",
   "metadata": {},
   "source": [
    "\n",
    "### 4.2 Какая в среднем общая площадь домов, у которых стоимость больше 600 000?"
   ]
  },
  {
   "cell_type": "code",
   "execution_count": 113,
   "id": "3d1e9b40",
   "metadata": {},
   "outputs": [
    {
     "data": {
      "text/plain": [
       "20442.52"
      ]
     },
     "execution_count": 113,
     "metadata": {},
     "output_type": "execute_result"
    }
   ],
   "source": [
    "df[df.price > 600000][['sqft_lot']].mean()[0].round(2)"
   ]
  },
  {
   "cell_type": "markdown",
   "id": "3e9a6d20",
   "metadata": {},
   "source": [
    "\n",
    "### 4.3 Как много домов коснулся ремонт?"
   ]
  },
  {
   "cell_type": "code",
   "execution_count": 70,
   "id": "1cb5ae05",
   "metadata": {},
   "outputs": [
    {
     "data": {
      "text/plain": [
       "914"
      ]
     },
     "execution_count": 70,
     "metadata": {},
     "output_type": "execute_result"
    }
   ],
   "source": [
    "df[df.yr_renovated != 0].count()[0]"
   ]
  },
  {
   "cell_type": "markdown",
   "id": "b750fe81",
   "metadata": {},
   "source": [
    "### 4.4 Насколько в среднем стоимость домов с оценкой grade домов выше 10 отличается от стоимости домов с оценкой grade меньше 4?"
   ]
  },
  {
   "cell_type": "code",
   "execution_count": 124,
   "id": "1fdfd287",
   "metadata": {},
   "outputs": [
    {
     "data": {
      "text/plain": [
       "1488885.12"
      ]
     },
     "execution_count": 124,
     "metadata": {},
     "output_type": "execute_result"
    }
   ],
   "source": [
    "(df[df.grade > 10][['price']].mean()[0] - df[df.grade < 4][['price']].mean()[0]).round(2)"
   ]
  },
  {
   "cell_type": "markdown",
   "id": "658a892d",
   "metadata": {},
   "source": [
    "## Задание 5\n",
    " \n",
    "### 5.1 Выберите дом клиенту\n",
    "Клиент хочет дом с видом на набережную, как минимум с тремя\n",
    "ванными и с подвалом. Сколько вариантов есть у клиента?\n"
   ]
  },
  {
   "cell_type": "code",
   "execution_count": 90,
   "id": "b86e7329",
   "metadata": {},
   "outputs": [
    {
     "data": {
      "text/plain": [
       "84"
      ]
     },
     "execution_count": 90,
     "metadata": {},
     "output_type": "execute_result"
    }
   ],
   "source": [
    "df[(df.waterfront == 1) &\n",
    "  (df.bedrooms >= 3) &\n",
    "  (df.sqft_basement > 0)].shape[0]"
   ]
  },
  {
   "cell_type": "markdown",
   "id": "9e181acf",
   "metadata": {},
   "source": [
    "### 5.2 Выберите дом клиенту\n",
    "Клиент хочет дом либо с очень красивым видом из окна, либо с\n",
    "видом на набережную, в очень хорошем состоянии и год\n",
    "постройки не меньше 1980 года. В какой ценовом диапазоне\n",
    "будут дома?\n"
   ]
  },
  {
   "cell_type": "code",
   "execution_count": 98,
   "id": "c7274054",
   "metadata": {},
   "outputs": [
    {
     "data": {
      "text/plain": [
       "(1295000.0, 3000000.0)"
      ]
     },
     "execution_count": 98,
     "metadata": {},
     "output_type": "execute_result"
    }
   ],
   "source": [
    "search1 = df[((df.view == max(df.view)) | (df.waterfront == 1)) &\n",
    "  (df.condition == max(df.condition)) &\n",
    "  (df.yr_built > 1980)]\n",
    "(min(search1.price),max(search1.price))"
   ]
  },
  {
   "cell_type": "markdown",
   "id": "6817305a",
   "metadata": {},
   "source": [
    "### 5.3 Выберите дом клиенту\n",
    "Клиент хочет дом без подвала, с двумя этажами, стоимостью\n",
    "до 150000. Какая оценка по состоянию у таких домов в\n",
    "среднем?"
   ]
  },
  {
   "cell_type": "code",
   "execution_count": 110,
   "id": "cddbb1e2",
   "metadata": {},
   "outputs": [
    {
     "data": {
      "text/plain": [
       "2.83"
      ]
     },
     "execution_count": 110,
     "metadata": {},
     "output_type": "execute_result"
    }
   ],
   "source": [
    "df[(df.sqft_basement == 0) &\n",
    "  (df.floors == 2) &\n",
    "  (df.price < 150000)][['condition']].mean()[0].round(2)"
   ]
  }
 ],
 "metadata": {
  "kernelspec": {
   "display_name": "Python 3 (ipykernel)",
   "language": "python",
   "name": "python3"
  },
  "language_info": {
   "codemirror_mode": {
    "name": "ipython",
    "version": 3
   },
   "file_extension": ".py",
   "mimetype": "text/x-python",
   "name": "python",
   "nbconvert_exporter": "python",
   "pygments_lexer": "ipython3",
   "version": "3.11.1"
  }
 },
 "nbformat": 4,
 "nbformat_minor": 5
}
