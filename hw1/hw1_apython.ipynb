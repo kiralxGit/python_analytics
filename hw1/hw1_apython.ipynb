{
 "cells": [
  {
   "cell_type": "markdown",
   "id": "e5531e6c",
   "metadata": {},
   "source": [
    "## Задание 2\n",
    "На складе лежат разные фрукты в разном количестве.\n",
    "\n",
    "Нужно написать функцию, которая на вход принимает любое количество названий фруктов и их количество, а возвращает общее количество фруктов на складе."
   ]
  },
  {
   "cell_type": "code",
   "execution_count": 1,
   "id": "f2d50313",
   "metadata": {},
   "outputs": [
    {
     "name": "stdout",
     "output_type": "stream",
     "text": [
      "Фруктов на складе: 20\n"
     ]
    }
   ],
   "source": [
    "def total_fruits(**fruits) -> int:\n",
    "    return sum(fruits.values())\n",
    "    \n",
    "print('Фруктов на складе:', total_fruits(banana=5, mango=7, apple=8))"
   ]
  },
  {
   "cell_type": "markdown",
   "id": "d915c9c2",
   "metadata": {},
   "source": [
    "## Задание 3\n",
    "Дан список с затратами на рекламу. Но в данных есть ошибки, некоторые затраты имеют отрицательную величину. Удалите такие значения из списка и посчитайте суммарные затраты\n",
    "\n",
    "```[100, 125, -90, 345, 655, -1, 0, 200]```\n",
    "\n",
    "Используйте list comprehensions"
   ]
  },
  {
   "cell_type": "code",
   "execution_count": 2,
   "id": "fbc254a2",
   "metadata": {},
   "outputs": [
    {
     "name": "stdout",
     "output_type": "stream",
     "text": [
      "Суммарные затраты: 1425\n"
     ]
    }
   ],
   "source": [
    "costs = [100, 125, -90, 345, 655, -1, 0, 200]\n",
    "costs_clear = [item for item in costs if item >= 0]\n",
    "print('Суммарные затраты:', sum(costs_clear))\n"
   ]
  },
  {
   "cell_type": "markdown",
   "id": "1b977982",
   "metadata": {},
   "source": [
    "## Задание 4\n",
    "Даны два списка.\n",
    "\n",
    "Дата покупки\n",
    "\n",
    "```['2021-09-14', '2021-12-15', '2021-09-08', '2021-12-05', '2021-10-09', '2021-09-30', '2021-12-22', '2021-11-29','2021-12-24', '2021-11-26', '2021-10-27', '2021-12-18', '2021-11-09', '2021-11-23', '2021-09-27','2021-10-02', '2021-12-27', '2021-09-20', '2021-12-13', '2021-11-01', '2021-11-09', '2021-12-06', '2021-12-08', '2021-10-09','2021-10-31', '2021-09-30', '2021-11-09', '2021-12-13', '2021-10-26', '2021-12-09']```\n",
    "\n",
    "Суммы покупок по датам\n",
    "\n",
    "```[1270, 8413, 9028, 3703, 5739, 4095, 295, 4944, 5723, 3701, 4471, 651, 7037, 4274, 6275, 4988, 6930, 2971, 6592, 2004,2822, 519, 3406, 2732, 5015, 2008, 316, 6333, 5700, 2887]```"
   ]
  },
  {
   "cell_type": "code",
   "execution_count": 3,
   "id": "59b451b2",
   "metadata": {},
   "outputs": [],
   "source": [
    "purchase_dates = ['2021-09-14', '2021-12-15', '2021-09-08', '2021-12-05', '2021-10-09', '2021-09-30', '2021-12-22', '2021-11-29','2021-12-24', '2021-11-26', '2021-10-27', '2021-12-18', '2021-11-09', '2021-11-23', '2021-09-27','2021-10-02', '2021-12-27', '2021-09-20', '2021-12-13', '2021-11-01', '2021-11-09', '2021-12-06', '2021-12-08', '2021-10-09','2021-10-31', '2021-09-30', '2021-11-09', '2021-12-13', '2021-10-26', '2021-12-09']\n",
    "amounts_dates = [1270, 8413, 9028, 3703, 5739, 4095, 295, 4944, 5723, 3701, 4471, 651, 7037, 4274, 6275, 4988, 6930, 2971, 6592, 2004,2822, 519, 3406, 2732, 5015, 2008, 316, 6333, 5700, 2887]\n"
   ]
  },
  {
   "cell_type": "markdown",
   "id": "f844cb0b",
   "metadata": {},
   "source": [
    "### 4.1 Найдите, какая выручка у компании в ноябре\n",
    "Используйте list comprehensions"
   ]
  },
  {
   "cell_type": "code",
   "execution_count": 4,
   "id": "27aa4c10",
   "metadata": {},
   "outputs": [
    {
     "name": "stdout",
     "output_type": "stream",
     "text": [
      "Выручка за ноябрь: 25098\n"
     ]
    }
   ],
   "source": [
    "length = 0\n",
    "if len(purchase_dates) == len(amounts_dates): length = len(purchase_dates)\n",
    "elif len(purchase_dates) < len(amounts_dates): length = len(purchase_dates)\n",
    "elif len(purchase_dates) > len(amounts_dates): length = len(amounts_dates)\n",
    "    \n",
    "nowember_costs = [amounts_dates[i] for i in range(length) if purchase_dates[i].find('-11-') >= 0]\n",
    "print('Выручка за ноябрь:', sum(nowember_costs))"
   ]
  },
  {
   "cell_type": "markdown",
   "id": "94596205",
   "metadata": {},
   "source": [
    "### 4.2 Найдите выручку компании в зависимости от месяца\n",
    "Для этого напишите функцию, которая на вход принимает список с датами и список с выручкой, а на выходе словарь, где ключи - это месяцы, а значения - это выручка.\n",
    "\n",
    "Используйте аннотирование типов"
   ]
  },
  {
   "cell_type": "code",
   "execution_count": 5,
   "id": "c2a4ea9f",
   "metadata": {},
   "outputs": [
    {
     "name": "stdout",
     "output_type": "stream",
     "text": [
      "Выручка по месяцам: {'09': 25647, '12': 45452, '10': 28645, '11': 25098}\n"
     ]
    }
   ],
   "source": [
    "def counting_by_months(dates:list, amounts:list) -> dict:\n",
    "    if(len(dates) == 0 or len(amounts) == 0): return []\n",
    "    res = dict()\n",
    "    length = 0\n",
    "    if len(dates) == len(amounts): length = len(dates)\n",
    "    elif len(dates) < len(amounts): length = len(dates)\n",
    "    elif len(dates) > len(amounts): length = len(amounts)\n",
    "    \n",
    "    for i in range(length):\n",
    "        month = dates[i][5:-3]\n",
    "        if res.get(month) is None:\n",
    "            res.setdefault(month, amounts[i])\n",
    "        else:\n",
    "            res[month] = res.get(month) + amounts[i]\n",
    "        \n",
    "    return res\n",
    "\n",
    "print('Выручка по месяцам:', counting_by_months(purchase_dates, amounts_dates))"
   ]
  }
 ],
 "metadata": {
  "kernelspec": {
   "display_name": "Python 3 (ipykernel)",
   "language": "python",
   "name": "python3"
  },
  "language_info": {
   "codemirror_mode": {
    "name": "ipython",
    "version": 3
   },
   "file_extension": ".py",
   "mimetype": "text/x-python",
   "name": "python",
   "nbconvert_exporter": "python",
   "pygments_lexer": "ipython3",
   "version": "3.11.1"
  }
 },
 "nbformat": 4,
 "nbformat_minor": 5
}
